{
 "cells": [
  {
   "cell_type": "code",
   "execution_count": 1,
   "id": "bac109ba",
   "metadata": {},
   "outputs": [],
   "source": [
    "import pyspark\n",
    "from pyspark.sql import SparkSession"
   ]
  },
  {
   "cell_type": "code",
   "execution_count": 2,
   "id": "d847e492",
   "metadata": {},
   "outputs": [
    {
     "data": {
      "text/html": [
       "\n",
       "            <div>\n",
       "                <p><b>SparkSession - in-memory</b></p>\n",
       "                \n",
       "        <div>\n",
       "            <p><b>SparkContext</b></p>\n",
       "\n",
       "            <p><a href=\"http://DESKTOP-S3PARCO.fritz.box:4040\">Spark UI</a></p>\n",
       "\n",
       "            <dl>\n",
       "              <dt>Version</dt>\n",
       "                <dd><code>v3.3.1</code></dd>\n",
       "              <dt>Master</dt>\n",
       "                <dd><code>local[*]</code></dd>\n",
       "              <dt>AppName</dt>\n",
       "                <dd><code>Car_Price_Prediction</code></dd>\n",
       "            </dl>\n",
       "        </div>\n",
       "        \n",
       "            </div>\n",
       "        "
      ],
      "text/plain": [
       "<pyspark.sql.session.SparkSession at 0x1efcab1cca0>"
      ]
     },
     "execution_count": 2,
     "metadata": {},
     "output_type": "execute_result"
    }
   ],
   "source": [
    "spark = SparkSession.builder.appName('Car_Price_Prediction').getOrCreate()\n",
    "spark"
   ]
  },
  {
   "cell_type": "code",
   "execution_count": 3,
   "id": "1fa405e1",
   "metadata": {},
   "outputs": [
    {
     "data": {
      "text/plain": [
       "DataFrame[name: string, year: int, selling_price: int, km_driven: int, fuel: string, seller_type: string, transmission: string, owner: string, mileage: string, engine: string, max_power: string, torque: string, seats: int]"
      ]
     },
     "metadata": {},
     "output_type": "display_data"
    }
   ],
   "source": [
    "# read the dataset\n",
    "df = spark.read.csv('../data/Car details v3.csv', header=True, inferSchema=True)\n",
    "\n",
    "display(df)"
   ]
  },
  {
   "cell_type": "code",
   "execution_count": 4,
   "id": "7cdd3c5a",
   "metadata": {},
   "outputs": [
    {
     "data": {
      "text/plain": [
       "[Row(name='Maruti Swift Dzire VDI', year=2014, selling_price=450000, km_driven=145500, fuel='Diesel', seller_type='Individual', transmission='Manual', owner='First Owner', mileage='23.4 kmpl', engine='1248 CC', max_power='74 bhp', torque='190Nm@ 2000rpm', seats=5),\n",
       " Row(name='Skoda Rapid 1.5 TDI Ambition', year=2014, selling_price=370000, km_driven=120000, fuel='Diesel', seller_type='Individual', transmission='Manual', owner='Second Owner', mileage='21.14 kmpl', engine='1498 CC', max_power='103.52 bhp', torque='250Nm@ 1500-2500rpm', seats=5)]"
      ]
     },
     "execution_count": 4,
     "metadata": {},
     "output_type": "execute_result"
    }
   ],
   "source": [
    "df.head(2)"
   ]
  },
  {
   "cell_type": "code",
   "execution_count": 5,
   "id": "fde4ca7e",
   "metadata": {},
   "outputs": [
    {
     "name": "stdout",
     "output_type": "stream",
     "text": [
      "root\n",
      " |-- name: string (nullable = true)\n",
      " |-- year: integer (nullable = true)\n",
      " |-- selling_price: integer (nullable = true)\n",
      " |-- km_driven: integer (nullable = true)\n",
      " |-- fuel: string (nullable = true)\n",
      " |-- seller_type: string (nullable = true)\n",
      " |-- transmission: string (nullable = true)\n",
      " |-- owner: string (nullable = true)\n",
      " |-- mileage: string (nullable = true)\n",
      " |-- engine: string (nullable = true)\n",
      " |-- max_power: string (nullable = true)\n",
      " |-- torque: string (nullable = true)\n",
      " |-- seats: integer (nullable = true)\n",
      "\n"
     ]
    }
   ],
   "source": [
    "# check the schema and datatypes of columns\n",
    "df.printSchema()"
   ]
  },
  {
   "cell_type": "code",
   "execution_count": 6,
   "id": "feec0538",
   "metadata": {},
   "outputs": [
    {
     "name": "stdout",
     "output_type": "stream",
     "text": [
      "+-------+--------------------+------------------+-----------------+------------------+------+----------------+------------+-----------+--------+-------+---------+--------------------+----------------+\n",
      "|summary|                name|              year|    selling_price|         km_driven|  fuel|     seller_type|transmission|      owner| mileage| engine|max_power|              torque|           seats|\n",
      "+-------+--------------------+------------------+-----------------+------------------+------+----------------+------------+-----------+--------+-------+---------+--------------------+----------------+\n",
      "|  count|                8128|              8128|             8128|              8128|  8128|            8128|        8128|       8128|    7907|   7907|     7913|                7906|            7907|\n",
      "|   mean|                null|2013.8040108267717|638271.8077017716| 69819.51082677166|  null|            null|        null|       null|    null|   null|      0.0|                null|5.41671936259011|\n",
      "| stddev|                null| 4.044248753683651|806253.4035082327|56550.554958219276|  null|            null|        null|       null|    null|   null|      0.0|                null|0.95958752023399|\n",
      "|    min|Ambassador CLASSI...|              1983|            29999|                 1|   CNG|          Dealer|   Automatic|First Owner|0.0 kmpl|1047 CC|      bhp|10.2@ 2,600(kgm@ ...|               2|\n",
      "|    max|Volvo XC90 T8 Exc...|              2020|         10000000|           2360457|Petrol|Trustmark Dealer|      Manual|Third Owner|9.5 kmpl| 999 CC| 99.6 bhp|       99Nm@ 4500rpm|              14|\n",
      "+-------+--------------------+------------------+-----------------+------------------+------+----------------+------------+-----------+--------+-------+---------+--------------------+----------------+\n",
      "\n"
     ]
    }
   ],
   "source": [
    "df.describe().show()"
   ]
  },
  {
   "cell_type": "code",
   "execution_count": 7,
   "id": "f8e108f2",
   "metadata": {},
   "outputs": [
    {
     "name": "stdout",
     "output_type": "stream",
     "text": [
      "+-------+--------------------+------------------+-----------------+------------------+------+----------------+------------+-----------+--------+-------+---------+--------------------+------------------+\n",
      "|summary|                name|              year|    selling_price|         km_driven|  fuel|     seller_type|transmission|      owner| mileage| engine|max_power|              torque|             seats|\n",
      "+-------+--------------------+------------------+-----------------+------------------+------+----------------+------------+-----------+--------+-------+---------+--------------------+------------------+\n",
      "|  count|                7906|              7906|             7906|              7906|  7906|            7906|        7906|       7906|    7906|   7906|     7906|                7906|              7906|\n",
      "|   mean|                null|2013.9839362509485| 649813.720844928| 69188.65975208703|  null|            null|        null|       null|    null|   null|     null|                null|5.4163926132051605|\n",
      "| stddev|                null|3.8636953387035105|813582.7483541336|56792.296343317634|  null|            null|        null|       null|    null|   null|     null|                null|0.9592082121984635|\n",
      "|    min|Ambassador CLASSI...|              1994|            29999|                 1|   CNG|          Dealer|   Automatic|First Owner|0.0 kmpl|1047 CC|  100 bhp|10.2@ 2,600(kgm@ ...|                 2|\n",
      "|    max|Volvo XC90 T8 Exc...|              2020|         10000000|           2360457|Petrol|Trustmark Dealer|      Manual|Third Owner|9.5 kmpl| 999 CC| 99.6 bhp|       99Nm@ 4500rpm|                14|\n",
      "+-------+--------------------+------------------+-----------------+------------------+------+----------------+------------+-----------+--------+-------+---------+--------------------+------------------+\n",
      "\n"
     ]
    }
   ],
   "source": [
    "# drop rows with null values\n",
    "\n",
    "df = df.na.drop()\n",
    "df.describe().show()"
   ]
  },
  {
   "cell_type": "code",
   "execution_count": 8,
   "id": "710b4b65",
   "metadata": {},
   "outputs": [
    {
     "name": "stderr",
     "output_type": "stream",
     "text": [
      "C:\\Users\\ACER\\AppData\\Local\\Temp\\ipykernel_5572\\2631919601.py:19: SettingWithCopyWarning: \n",
      "A value is trying to be set on a copy of a slice from a DataFrame\n",
      "\n",
      "See the caveats in the documentation: https://pandas.pydata.org/pandas-docs/stable/user_guide/indexing.html#returning-a-view-versus-a-copy\n",
      "  pandas_df['name'].iloc[i] = brand\n",
      "C:\\Users\\ACER\\AppData\\Local\\Temp\\ipykernel_5572\\2631919601.py:29: SettingWithCopyWarning: \n",
      "A value is trying to be set on a copy of a slice from a DataFrame\n",
      "\n",
      "See the caveats in the documentation: https://pandas.pydata.org/pandas-docs/stable/user_guide/indexing.html#returning-a-view-versus-a-copy\n",
      "  pandas_df['engine'].iloc[i] = pandas_df['engine'].iloc[i][:-4]\n",
      "C:\\Users\\ACER\\AppData\\Local\\Temp\\ipykernel_5572\\2631919601.py:30: SettingWithCopyWarning: \n",
      "A value is trying to be set on a copy of a slice from a DataFrame\n",
      "\n",
      "See the caveats in the documentation: https://pandas.pydata.org/pandas-docs/stable/user_guide/indexing.html#returning-a-view-versus-a-copy\n",
      "  pandas_df['max_power'].iloc[i] = pandas_df['max_power'].iloc[i][:-5]\n"
     ]
    },
    {
     "ename": "KeyboardInterrupt",
     "evalue": "",
     "output_type": "error",
     "traceback": [
      "\u001b[1;31m---------------------------------------------------------------------------\u001b[0m",
      "\u001b[1;31mKeyboardInterrupt\u001b[0m                         Traceback (most recent call last)",
      "Input \u001b[1;32mIn [8]\u001b[0m, in \u001b[0;36m<cell line: 15>\u001b[1;34m()\u001b[0m\n\u001b[0;32m     26\u001b[0m         mile \u001b[38;5;241m=\u001b[39m pandas_df[\u001b[38;5;124m'\u001b[39m\u001b[38;5;124mmileage\u001b[39m\u001b[38;5;124m'\u001b[39m]\u001b[38;5;241m.\u001b[39miloc[i][:\u001b[38;5;241m-\u001b[39m\u001b[38;5;241m6\u001b[39m]\n\u001b[0;32m     27\u001b[0m         correct_mileage\u001b[38;5;241m.\u001b[39mappend(\u001b[38;5;28mfloat\u001b[39m(mile))\n\u001b[1;32m---> 29\u001b[0m     pandas_df[\u001b[38;5;124m'\u001b[39m\u001b[38;5;124mengine\u001b[39m\u001b[38;5;124m'\u001b[39m]\u001b[38;5;241m.\u001b[39miloc[i] \u001b[38;5;241m=\u001b[39m pandas_df[\u001b[38;5;124m'\u001b[39m\u001b[38;5;124mengine\u001b[39m\u001b[38;5;124m'\u001b[39m]\u001b[38;5;241m.\u001b[39miloc[i][:\u001b[38;5;241m-\u001b[39m\u001b[38;5;241m4\u001b[39m]\n\u001b[0;32m     30\u001b[0m     pandas_df[\u001b[38;5;124m'\u001b[39m\u001b[38;5;124mmax_power\u001b[39m\u001b[38;5;124m'\u001b[39m]\u001b[38;5;241m.\u001b[39miloc[i] \u001b[38;5;241m=\u001b[39m pandas_df[\u001b[38;5;124m'\u001b[39m\u001b[38;5;124mmax_power\u001b[39m\u001b[38;5;124m'\u001b[39m]\u001b[38;5;241m.\u001b[39miloc[i][:\u001b[38;5;241m-\u001b[39m\u001b[38;5;241m5\u001b[39m]\n\u001b[0;32m     32\u001b[0m \u001b[38;5;66;03m# replace mileage with standardized values\u001b[39;00m\n",
      "File \u001b[1;32m~\\anaconda3\\lib\\site-packages\\pandas\\core\\indexing.py:716\u001b[0m, in \u001b[0;36m_LocationIndexer.__setitem__\u001b[1;34m(self, key, value)\u001b[0m\n\u001b[0;32m    713\u001b[0m \u001b[38;5;28mself\u001b[39m\u001b[38;5;241m.\u001b[39m_has_valid_setitem_indexer(key)\n\u001b[0;32m    715\u001b[0m iloc \u001b[38;5;241m=\u001b[39m \u001b[38;5;28mself\u001b[39m \u001b[38;5;28;01mif\u001b[39;00m \u001b[38;5;28mself\u001b[39m\u001b[38;5;241m.\u001b[39mname \u001b[38;5;241m==\u001b[39m \u001b[38;5;124m\"\u001b[39m\u001b[38;5;124miloc\u001b[39m\u001b[38;5;124m\"\u001b[39m \u001b[38;5;28;01melse\u001b[39;00m \u001b[38;5;28mself\u001b[39m\u001b[38;5;241m.\u001b[39mobj\u001b[38;5;241m.\u001b[39miloc\n\u001b[1;32m--> 716\u001b[0m \u001b[43miloc\u001b[49m\u001b[38;5;241;43m.\u001b[39;49m\u001b[43m_setitem_with_indexer\u001b[49m\u001b[43m(\u001b[49m\u001b[43mindexer\u001b[49m\u001b[43m,\u001b[49m\u001b[43m \u001b[49m\u001b[43mvalue\u001b[49m\u001b[43m,\u001b[49m\u001b[43m \u001b[49m\u001b[38;5;28;43mself\u001b[39;49m\u001b[38;5;241;43m.\u001b[39;49m\u001b[43mname\u001b[49m\u001b[43m)\u001b[49m\n",
      "File \u001b[1;32m~\\anaconda3\\lib\\site-packages\\pandas\\core\\indexing.py:1690\u001b[0m, in \u001b[0;36m_iLocIndexer._setitem_with_indexer\u001b[1;34m(self, indexer, value, name)\u001b[0m\n\u001b[0;32m   1688\u001b[0m     \u001b[38;5;28mself\u001b[39m\u001b[38;5;241m.\u001b[39m_setitem_with_indexer_split_path(indexer, value, name)\n\u001b[0;32m   1689\u001b[0m \u001b[38;5;28;01melse\u001b[39;00m:\n\u001b[1;32m-> 1690\u001b[0m     \u001b[38;5;28;43mself\u001b[39;49m\u001b[38;5;241;43m.\u001b[39;49m\u001b[43m_setitem_single_block\u001b[49m\u001b[43m(\u001b[49m\u001b[43mindexer\u001b[49m\u001b[43m,\u001b[49m\u001b[43m \u001b[49m\u001b[43mvalue\u001b[49m\u001b[43m,\u001b[49m\u001b[43m \u001b[49m\u001b[43mname\u001b[49m\u001b[43m)\u001b[49m\n",
      "File \u001b[1;32m~\\anaconda3\\lib\\site-packages\\pandas\\core\\indexing.py:1935\u001b[0m, in \u001b[0;36m_iLocIndexer._setitem_single_block\u001b[1;34m(self, indexer, value, name)\u001b[0m\n\u001b[0;32m   1932\u001b[0m     value \u001b[38;5;241m=\u001b[39m \u001b[38;5;28mself\u001b[39m\u001b[38;5;241m.\u001b[39m_align_frame(indexer, value)\n\u001b[0;32m   1934\u001b[0m \u001b[38;5;66;03m# check for chained assignment\u001b[39;00m\n\u001b[1;32m-> 1935\u001b[0m \u001b[38;5;28;43mself\u001b[39;49m\u001b[38;5;241;43m.\u001b[39;49m\u001b[43mobj\u001b[49m\u001b[38;5;241;43m.\u001b[39;49m\u001b[43m_check_is_chained_assignment_possible\u001b[49m\u001b[43m(\u001b[49m\u001b[43m)\u001b[49m\n\u001b[0;32m   1937\u001b[0m \u001b[38;5;66;03m# actually do the set\u001b[39;00m\n\u001b[0;32m   1938\u001b[0m \u001b[38;5;28mself\u001b[39m\u001b[38;5;241m.\u001b[39mobj\u001b[38;5;241m.\u001b[39m_mgr \u001b[38;5;241m=\u001b[39m \u001b[38;5;28mself\u001b[39m\u001b[38;5;241m.\u001b[39mobj\u001b[38;5;241m.\u001b[39m_mgr\u001b[38;5;241m.\u001b[39msetitem(indexer\u001b[38;5;241m=\u001b[39mindexer, value\u001b[38;5;241m=\u001b[39mvalue)\n",
      "File \u001b[1;32m~\\anaconda3\\lib\\site-packages\\pandas\\core\\series.py:1256\u001b[0m, in \u001b[0;36mSeries._check_is_chained_assignment_possible\u001b[1;34m(self)\u001b[0m\n\u001b[0;32m   1254\u001b[0m     ref \u001b[38;5;241m=\u001b[39m \u001b[38;5;28mself\u001b[39m\u001b[38;5;241m.\u001b[39m_get_cacher()\n\u001b[0;32m   1255\u001b[0m     \u001b[38;5;28;01mif\u001b[39;00m ref \u001b[38;5;129;01mis\u001b[39;00m \u001b[38;5;129;01mnot\u001b[39;00m \u001b[38;5;28;01mNone\u001b[39;00m \u001b[38;5;129;01mand\u001b[39;00m ref\u001b[38;5;241m.\u001b[39m_is_mixed_type:\n\u001b[1;32m-> 1256\u001b[0m         \u001b[38;5;28;43mself\u001b[39;49m\u001b[38;5;241;43m.\u001b[39;49m\u001b[43m_check_setitem_copy\u001b[49m\u001b[43m(\u001b[49m\u001b[43mt\u001b[49m\u001b[38;5;241;43m=\u001b[39;49m\u001b[38;5;124;43m\"\u001b[39;49m\u001b[38;5;124;43mreferent\u001b[39;49m\u001b[38;5;124;43m\"\u001b[39;49m\u001b[43m,\u001b[49m\u001b[43m \u001b[49m\u001b[43mforce\u001b[49m\u001b[38;5;241;43m=\u001b[39;49m\u001b[38;5;28;43;01mTrue\u001b[39;49;00m\u001b[43m)\u001b[49m\n\u001b[0;32m   1257\u001b[0m     \u001b[38;5;28;01mreturn\u001b[39;00m \u001b[38;5;28;01mTrue\u001b[39;00m\n\u001b[0;32m   1258\u001b[0m \u001b[38;5;28;01mreturn\u001b[39;00m \u001b[38;5;28msuper\u001b[39m()\u001b[38;5;241m.\u001b[39m_check_is_chained_assignment_possible()\n",
      "File \u001b[1;32m~\\anaconda3\\lib\\site-packages\\pandas\\core\\generic.py:4018\u001b[0m, in \u001b[0;36mNDFrame._check_setitem_copy\u001b[1;34m(self, t, force)\u001b[0m\n\u001b[0;32m   4016\u001b[0m     \u001b[38;5;28;01mraise\u001b[39;00m com\u001b[38;5;241m.\u001b[39mSettingWithCopyError(t)\n\u001b[0;32m   4017\u001b[0m \u001b[38;5;28;01melif\u001b[39;00m value \u001b[38;5;241m==\u001b[39m \u001b[38;5;124m\"\u001b[39m\u001b[38;5;124mwarn\u001b[39m\u001b[38;5;124m\"\u001b[39m:\n\u001b[1;32m-> 4018\u001b[0m     warnings\u001b[38;5;241m.\u001b[39mwarn(t, com\u001b[38;5;241m.\u001b[39mSettingWithCopyWarning, stacklevel\u001b[38;5;241m=\u001b[39m\u001b[43mfind_stack_level\u001b[49m\u001b[43m(\u001b[49m\u001b[43m)\u001b[49m)\n",
      "File \u001b[1;32m~\\anaconda3\\lib\\site-packages\\pandas\\util\\_exceptions.py:32\u001b[0m, in \u001b[0;36mfind_stack_level\u001b[1;34m()\u001b[0m\n\u001b[0;32m     27\u001b[0m \u001b[38;5;28;01mdef\u001b[39;00m \u001b[38;5;21mfind_stack_level\u001b[39m() \u001b[38;5;241m-\u001b[39m\u001b[38;5;241m>\u001b[39m \u001b[38;5;28mint\u001b[39m:\n\u001b[0;32m     28\u001b[0m     \u001b[38;5;124;03m\"\"\"\u001b[39;00m\n\u001b[0;32m     29\u001b[0m \u001b[38;5;124;03m    Find the first place in the stack that is not inside pandas\u001b[39;00m\n\u001b[0;32m     30\u001b[0m \u001b[38;5;124;03m    (tests notwithstanding).\u001b[39;00m\n\u001b[0;32m     31\u001b[0m \u001b[38;5;124;03m    \"\"\"\u001b[39;00m\n\u001b[1;32m---> 32\u001b[0m     stack \u001b[38;5;241m=\u001b[39m \u001b[43minspect\u001b[49m\u001b[38;5;241;43m.\u001b[39;49m\u001b[43mstack\u001b[49m\u001b[43m(\u001b[49m\u001b[43m)\u001b[49m\n\u001b[0;32m     34\u001b[0m     \u001b[38;5;28;01mimport\u001b[39;00m \u001b[38;5;21;01mpandas\u001b[39;00m \u001b[38;5;28;01mas\u001b[39;00m \u001b[38;5;21;01mpd\u001b[39;00m\n\u001b[0;32m     36\u001b[0m     pkg_dir \u001b[38;5;241m=\u001b[39m os\u001b[38;5;241m.\u001b[39mpath\u001b[38;5;241m.\u001b[39mdirname(pd\u001b[38;5;241m.\u001b[39m\u001b[38;5;18m__file__\u001b[39m)\n",
      "File \u001b[1;32m~\\anaconda3\\lib\\inspect.py:1554\u001b[0m, in \u001b[0;36mstack\u001b[1;34m(context)\u001b[0m\n\u001b[0;32m   1552\u001b[0m \u001b[38;5;28;01mdef\u001b[39;00m \u001b[38;5;21mstack\u001b[39m(context\u001b[38;5;241m=\u001b[39m\u001b[38;5;241m1\u001b[39m):\n\u001b[0;32m   1553\u001b[0m     \u001b[38;5;124;03m\"\"\"Return a list of records for the stack above the caller's frame.\"\"\"\u001b[39;00m\n\u001b[1;32m-> 1554\u001b[0m     \u001b[38;5;28;01mreturn\u001b[39;00m \u001b[43mgetouterframes\u001b[49m\u001b[43m(\u001b[49m\u001b[43msys\u001b[49m\u001b[38;5;241;43m.\u001b[39;49m\u001b[43m_getframe\u001b[49m\u001b[43m(\u001b[49m\u001b[38;5;241;43m1\u001b[39;49m\u001b[43m)\u001b[49m\u001b[43m,\u001b[49m\u001b[43m \u001b[49m\u001b[43mcontext\u001b[49m\u001b[43m)\u001b[49m\n",
      "File \u001b[1;32m~\\anaconda3\\lib\\inspect.py:1531\u001b[0m, in \u001b[0;36mgetouterframes\u001b[1;34m(frame, context)\u001b[0m\n\u001b[0;32m   1529\u001b[0m framelist \u001b[38;5;241m=\u001b[39m []\n\u001b[0;32m   1530\u001b[0m \u001b[38;5;28;01mwhile\u001b[39;00m frame:\n\u001b[1;32m-> 1531\u001b[0m     frameinfo \u001b[38;5;241m=\u001b[39m (frame,) \u001b[38;5;241m+\u001b[39m \u001b[43mgetframeinfo\u001b[49m\u001b[43m(\u001b[49m\u001b[43mframe\u001b[49m\u001b[43m,\u001b[49m\u001b[43m \u001b[49m\u001b[43mcontext\u001b[49m\u001b[43m)\u001b[49m\n\u001b[0;32m   1532\u001b[0m     framelist\u001b[38;5;241m.\u001b[39mappend(FrameInfo(\u001b[38;5;241m*\u001b[39mframeinfo))\n\u001b[0;32m   1533\u001b[0m     frame \u001b[38;5;241m=\u001b[39m frame\u001b[38;5;241m.\u001b[39mf_back\n",
      "File \u001b[1;32m~\\anaconda3\\lib\\inspect.py:1505\u001b[0m, in \u001b[0;36mgetframeinfo\u001b[1;34m(frame, context)\u001b[0m\n\u001b[0;32m   1503\u001b[0m start \u001b[38;5;241m=\u001b[39m lineno \u001b[38;5;241m-\u001b[39m \u001b[38;5;241m1\u001b[39m \u001b[38;5;241m-\u001b[39m context\u001b[38;5;241m/\u001b[39m\u001b[38;5;241m/\u001b[39m\u001b[38;5;241m2\u001b[39m\n\u001b[0;32m   1504\u001b[0m \u001b[38;5;28;01mtry\u001b[39;00m:\n\u001b[1;32m-> 1505\u001b[0m     lines, lnum \u001b[38;5;241m=\u001b[39m \u001b[43mfindsource\u001b[49m\u001b[43m(\u001b[49m\u001b[43mframe\u001b[49m\u001b[43m)\u001b[49m\n\u001b[0;32m   1506\u001b[0m \u001b[38;5;28;01mexcept\u001b[39;00m \u001b[38;5;167;01mOSError\u001b[39;00m:\n\u001b[0;32m   1507\u001b[0m     lines \u001b[38;5;241m=\u001b[39m index \u001b[38;5;241m=\u001b[39m \u001b[38;5;28;01mNone\u001b[39;00m\n",
      "File \u001b[1;32m~\\anaconda3\\lib\\inspect.py:820\u001b[0m, in \u001b[0;36mfindsource\u001b[1;34m(object)\u001b[0m\n\u001b[0;32m    817\u001b[0m file \u001b[38;5;241m=\u001b[39m getsourcefile(\u001b[38;5;28mobject\u001b[39m)\n\u001b[0;32m    818\u001b[0m \u001b[38;5;28;01mif\u001b[39;00m file:\n\u001b[0;32m    819\u001b[0m     \u001b[38;5;66;03m# Invalidate cache if needed.\u001b[39;00m\n\u001b[1;32m--> 820\u001b[0m     \u001b[43mlinecache\u001b[49m\u001b[38;5;241;43m.\u001b[39;49m\u001b[43mcheckcache\u001b[49m\u001b[43m(\u001b[49m\u001b[43mfile\u001b[49m\u001b[43m)\u001b[49m\n\u001b[0;32m    821\u001b[0m \u001b[38;5;28;01melse\u001b[39;00m:\n\u001b[0;32m    822\u001b[0m     file \u001b[38;5;241m=\u001b[39m getfile(\u001b[38;5;28mobject\u001b[39m)\n",
      "File \u001b[1;32m~\\anaconda3\\lib\\site-packages\\IPython\\core\\compilerop.py:193\u001b[0m, in \u001b[0;36mcheck_linecache_ipython\u001b[1;34m(*args)\u001b[0m\n\u001b[0;32m    190\u001b[0m \u001b[38;5;124;03m\"\"\"Call linecache.checkcache() safely protecting our cached values.\u001b[39;00m\n\u001b[0;32m    191\u001b[0m \u001b[38;5;124;03m\"\"\"\u001b[39;00m\n\u001b[0;32m    192\u001b[0m \u001b[38;5;66;03m# First call the original checkcache as intended\u001b[39;00m\n\u001b[1;32m--> 193\u001b[0m \u001b[43mlinecache\u001b[49m\u001b[38;5;241;43m.\u001b[39;49m\u001b[43m_checkcache_ori\u001b[49m\u001b[43m(\u001b[49m\u001b[38;5;241;43m*\u001b[39;49m\u001b[43margs\u001b[49m\u001b[43m)\u001b[49m\n\u001b[0;32m    194\u001b[0m \u001b[38;5;66;03m# Then, update back the cache with our data, so that tracebacks related\u001b[39;00m\n\u001b[0;32m    195\u001b[0m \u001b[38;5;66;03m# to our compiled codes can be produced.\u001b[39;00m\n\u001b[0;32m    196\u001b[0m linecache\u001b[38;5;241m.\u001b[39mcache\u001b[38;5;241m.\u001b[39mupdate(linecache\u001b[38;5;241m.\u001b[39m_ipython_cache)\n",
      "File \u001b[1;32m~\\anaconda3\\lib\\linecache.py:72\u001b[0m, in \u001b[0;36mcheckcache\u001b[1;34m(filename)\u001b[0m\n\u001b[0;32m     70\u001b[0m     \u001b[38;5;28;01mcontinue\u001b[39;00m   \u001b[38;5;66;03m# no-op for files loaded via a __loader__\u001b[39;00m\n\u001b[0;32m     71\u001b[0m \u001b[38;5;28;01mtry\u001b[39;00m:\n\u001b[1;32m---> 72\u001b[0m     stat \u001b[38;5;241m=\u001b[39m \u001b[43mos\u001b[49m\u001b[38;5;241;43m.\u001b[39;49m\u001b[43mstat\u001b[49m\u001b[43m(\u001b[49m\u001b[43mfullname\u001b[49m\u001b[43m)\u001b[49m\n\u001b[0;32m     73\u001b[0m \u001b[38;5;28;01mexcept\u001b[39;00m \u001b[38;5;167;01mOSError\u001b[39;00m:\n\u001b[0;32m     74\u001b[0m     cache\u001b[38;5;241m.\u001b[39mpop(filename, \u001b[38;5;28;01mNone\u001b[39;00m)\n",
      "\u001b[1;31mKeyboardInterrupt\u001b[0m: "
     ]
    }
   ],
   "source": [
    "import pandas as pd\n",
    "\n",
    "# change column 'name' to 'brand' and standardize mileage\n",
    "\n",
    "# copy the spark df schema\n",
    "schema = df.schema\n",
    "\n",
    "# create pandas df\n",
    "pandas_df = df.toPandas()\n",
    "\n",
    "# store standardized mileage values\n",
    "correct_mileage= []\n",
    "\n",
    "# replace 'name' with 'brand' and prepare some columns for changing datatypes by deleting unit \n",
    "for i in range(0, len(pandas_df)):\n",
    "    name = pandas_df['name'].iloc[i]\n",
    "    name_splitted = name.split()\n",
    "    brand = name_splitted[0]\n",
    "    pandas_df['name'].iloc[i] = brand\n",
    "    \n",
    "    if pandas_df['mileage'].iloc[i].endswith('km/kg'):\n",
    "        mile = pandas_df['mileage'].iloc[i][:-6]\n",
    "        mile = float(mile)*1.40\n",
    "        correct_mileage.append(float(mile))\n",
    "    elif pandas_df['mileage'].iloc[i].endswith('kmpl'):\n",
    "        mile = pandas_df['mileage'].iloc[i][:-6]\n",
    "        correct_mileage.append(float(mile))\n",
    "\n",
    "    pandas_df['engine'].iloc[i] = pandas_df['engine'].iloc[i][:-4]\n",
    "    pandas_df['max_power'].iloc[i] = pandas_df['max_power'].iloc[i][:-5]\n",
    "\n",
    "# replace mileage with standardized values\n",
    "pandas_df['mileage'] = correct_mileage\n",
    "\n",
    "# update the df with the new value using the pandas df\n",
    "df = spark.createDataFrame(pandas_df,schema=schema)"
   ]
  },
  {
   "cell_type": "code",
   "execution_count": null,
   "id": "ebf832de",
   "metadata": {},
   "outputs": [],
   "source": [
    "pandas_df.head()"
   ]
  },
  {
   "cell_type": "code",
   "execution_count": null,
   "id": "209aeafd",
   "metadata": {},
   "outputs": [],
   "source": [
    "del pandas_df"
   ]
  },
  {
   "cell_type": "code",
   "execution_count": null,
   "id": "80f9c2cd",
   "metadata": {},
   "outputs": [],
   "source": [
    "# rename some colums\n",
    "df = df.withColumnRenamed('mileage', 'mileage_kmpl')\n",
    "df = df.withColumnRenamed('engine', 'engine_CC')\n",
    "df = df.withColumnRenamed('max_power', 'max_power_bhp')\n",
    "\n",
    "# drop 'torque'\n",
    "df = df.drop('torque')"
   ]
  },
  {
   "cell_type": "code",
   "execution_count": null,
   "id": "4a33be3f",
   "metadata": {},
   "outputs": [],
   "source": [
    "# change datatypes of some columns\n",
    "#df.withColumn(\"mileage_kmpl\",df.mileage_kmpl.cast('float'))\n",
    "df = df.selectExpr(\"cast(name as string) name\",\n",
    "    \"cast(year as int) year\",\n",
    "    \"cast(selling_price as int) selling_price\",\n",
    "    \"cast(km_driven as int) km_driven\",\n",
    "    \"cast(fuel as string) fuel\",\n",
    "    \"cast(seller_type as string) seller_type\",\n",
    "    \"cast(transmission as string) transmission\",\n",
    "    \"cast(owner as string) owner\",\n",
    "    \"cast(mileage_kmpl as float) mileage_kmpl\",\n",
    "    \"cast(engine_CC as int) engine_CC\",\n",
    "    \"cast(max_power_bhp as float) max_power_bhp\",\n",
    "    \"cast(seats as int) seats\")\n",
    "\n",
    "df.printSchema()"
   ]
  },
  {
   "cell_type": "code",
   "execution_count": null,
   "id": "59981de0",
   "metadata": {},
   "outputs": [],
   "source": [
    "df.head(3)"
   ]
  },
  {
   "cell_type": "code",
   "execution_count": null,
   "id": "4c34baa2",
   "metadata": {},
   "outputs": [],
   "source": [
    "from pyspark.ml.feature import StringIndexer\n",
    "\n",
    "# string indexing for regression\n",
    "indexer = StringIndexer(inputCols=['name', 'fuel', 'seller_type', 'transmission', 'owner'],\n",
    "                        outputCols=['name_indexed', 'fuel_indexed', 'seller_type_indexed', 'transmission_indexed', 'owner_indexed'])\n",
    "\n",
    "df_reg = indexer.fit(df).transform(df)\n",
    "df_reg.show()"
   ]
  },
  {
   "cell_type": "code",
   "execution_count": null,
   "id": "07396f1c",
   "metadata": {},
   "outputs": [],
   "source": [
    "df_reg.columns"
   ]
  },
  {
   "cell_type": "code",
   "execution_count": null,
   "id": "e572a1f6",
   "metadata": {},
   "outputs": [],
   "source": [
    "from pyspark.ml.feature import VectorAssembler\n",
    "\n",
    "# group together all independent features\n",
    "feature_assembler = VectorAssembler(inputCols=['year', 'km_driven', 'mileage_kmpl', 'engine_CC', 'max_power_bhp', 'seats', 'name_indexed', 'fuel_indexed',\n",
    "                           'seller_type_indexed', 'transmission_indexed', 'owner_indexed'], outputCol='independent_Features')\n",
    "\n",
    "output = feature_assembler.transform(df_reg)"
   ]
  },
  {
   "cell_type": "code",
   "execution_count": null,
   "id": "43f1057a",
   "metadata": {},
   "outputs": [],
   "source": [
    "output.select('independent_Features').show()"
   ]
  },
  {
   "cell_type": "code",
   "execution_count": null,
   "id": "dd618817",
   "metadata": {},
   "outputs": [],
   "source": [
    "finalized_data = output.select('independent_Features', 'selling_price')\n",
    "finalized_data.show()"
   ]
  },
  {
   "cell_type": "code",
   "execution_count": null,
   "id": "b03d65fd",
   "metadata": {},
   "outputs": [],
   "source": [
    "from pyspark.ml.regression import LinearRegression\n",
    "\n",
    "# create linear regression\n",
    "\n",
    "# train+test split\n",
    "train_data, test_data = finalized_data.randomSplit([0.75, 0.25])\n",
    "regressor = LinearRegression(featuresCol='independent_Features', labelCol='selling_price')\n",
    "regressor = regressor.fit(train_data)"
   ]
  },
  {
   "cell_type": "code",
   "execution_count": null,
   "id": "a439edfc",
   "metadata": {},
   "outputs": [],
   "source": [
    "regressor.coefficients"
   ]
  },
  {
   "cell_type": "code",
   "execution_count": null,
   "id": "06470609",
   "metadata": {},
   "outputs": [],
   "source": [
    "regressor.intercept"
   ]
  },
  {
   "cell_type": "code",
   "execution_count": null,
   "id": "848d3d8e",
   "metadata": {},
   "outputs": [],
   "source": [
    "# predictions\n",
    "pred_results = regressor.evaluate(test_data)\n",
    "\n",
    "# final comparison\n",
    "pred_results.predictions.show()"
   ]
  },
  {
   "cell_type": "code",
   "execution_count": null,
   "id": "61899b62",
   "metadata": {},
   "outputs": [],
   "source": [
    "# preformance metrics\n",
    "pred_results.r2, pred_results.meanAbsoluteError, pred_results.meanSquaredError"
   ]
  },
  {
   "cell_type": "code",
   "execution_count": null,
   "id": "eb62f270",
   "metadata": {},
   "outputs": [],
   "source": []
  }
 ],
 "metadata": {
  "kernelspec": {
   "display_name": "Python 3 (ipykernel)",
   "language": "python",
   "name": "python3"
  },
  "language_info": {
   "codemirror_mode": {
    "name": "ipython",
    "version": 3
   },
   "file_extension": ".py",
   "mimetype": "text/x-python",
   "name": "python",
   "nbconvert_exporter": "python",
   "pygments_lexer": "ipython3",
   "version": "3.9.12"
  }
 },
 "nbformat": 4,
 "nbformat_minor": 5
}
